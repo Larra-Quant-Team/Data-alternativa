{
 "cells": [
  {
   "cell_type": "markdown",
   "metadata": {},
   "source": [
    "## Cargamos las librerías"
   ]
  },
  {
   "cell_type": "code",
   "execution_count": 1,
   "metadata": {},
   "outputs": [],
   "source": [
    "import metodos_wt as mwt\n",
    "import nltk\n",
    "import pandas as pd\n",
    "from sklearn.feature_extraction.text import CountVectorizer, TfidfVectorizer\n",
    "import matplotlib.pyplot as plt\n",
    "from lmd_dicts import get_sentiment_dicts"
   ]
  },
  {
   "cell_type": "markdown",
   "metadata": {},
   "source": [
    "## Cargamos la data: Correr solo al principio"
   ]
  },
  {
   "cell_type": "code",
   "execution_count": null,
   "metadata": {},
   "outputs": [],
   "source": [
    "db_path = 'C:\\\\Users\\\\ASUS\\\\larrainvial.com\\\\Equipo Quant - Documentos\\\\Area Estrategias Cuantitativas 2.0\\\\BDD\\\\Data Alternativa'\n",
    "o_path = db_path\n",
    "transcript_dict = mwt.load_obj(db_path + '\\\\transcript_bbd')\n",
    "count_dict = {}"
   ]
  },
  {
   "cell_type": "markdown",
   "metadata": {},
   "source": [
    "## Transformamos los transcripts en bags of words"
   ]
  },
  {
   "cell_type": "code",
   "execution_count": null,
   "metadata": {},
   "outputs": [],
   "source": [
    "# Cargamos acá las palabras de los clusters ya que nos sirve para no eliminar estos términos\n",
    "cluster_words = pd.read_excel(db_path + '\\\\transcript_clusters.xlsx')\n",
    "keep_w = list(cluster_words.stack().values)\n",
    "\n",
    "# Cargamos las herramientas necesarias. Si quisiéramos tener más SW las agregamos acá\n",
    "stemmer = nltk.stem.SnowballStemmer('english')\n",
    "sw = nltk.corpus.stopwords.words('english')\n",
    "sw_extra = ['&', 'call', 'also', 'year', 'and', 'we', 'so', 'this']\n",
    "sw += sw_extra\n",
    "vectorizer = CountVectorizer(stop_words='english', ngram_range=(1, 2))\n",
    "\n",
    "for key, data in transcript_dict.items():\n",
    "    # Chequeamos que no esté vacío\n",
    "    if data.shape[0] == 0:\n",
    "        continue\n",
    "    # Feedback de cómo va el proceso\n",
    "    print(key)\n",
    "    \n",
    "    # Algunos ajustes\n",
    "    data['date'] = pd.to_datetime(data['date'])\n",
    "    data = data[['date', 'text']].set_index('date').squeeze()\n",
    "    data = data.loc[data['type'] == 'Earnings Call']\n",
    "\n",
    "    # Si hay un solo transcript, pasamos\n",
    "    if not isinstance(data, pd.Series):\n",
    "        continue\n",
    "\n",
    "    cv_dict = {}\n",
    "    for date, text in data.iteritems():\n",
    "        if not isinstance(text, str):\n",
    "            continue\n",
    "        text = mwt.process_raw_text(text, sw, stemmer)\n",
    "        cv_dict[date] = mwt.count_vect(text, vectorizer, keep_w=keep_w)\n",
    "\n",
    "    df = pd.DataFrame(cv_dict).fillna(0)\n",
    "    cols_orden = df.columns.sort_values()\n",
    "    df = df[cols_orden]\n",
    "    count_dict[key.split(':')[-1]] = df\n",
    "\n",
    "# Creamos un df con la última data disponible que será útil para el análisis general\n",
    "last_dict = {c: df.iloc[:, -1] for c, df in count_dict.items()}\n",
    "last_df = pd.DataFrame(last_dict)"
   ]
  },
  {
   "cell_type": "markdown",
   "metadata": {},
   "source": [
    "## Hacemos el conteo de palabras por tópico y además el sentiment"
   ]
  },
  {
   "cell_type": "code",
   "execution_count": null,
   "metadata": {},
   "outputs": [],
   "source": []
  }
 ],
 "metadata": {
  "kernelspec": {
   "display_name": "Python 3",
   "language": "python",
   "name": "python3"
  },
  "language_info": {
   "codemirror_mode": {
    "name": "ipython",
    "version": 3
   },
   "file_extension": ".py",
   "mimetype": "text/x-python",
   "name": "python",
   "nbconvert_exporter": "python",
   "pygments_lexer": "ipython3",
   "version": "3.8.5"
  }
 },
 "nbformat": 4,
 "nbformat_minor": 4
}
