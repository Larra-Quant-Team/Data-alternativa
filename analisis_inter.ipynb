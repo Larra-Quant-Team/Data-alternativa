{
 "cells": [
  {
   "cell_type": "markdown",
   "metadata": {},
   "source": [
    "# Cargamos las librerías"
   ]
  },
  {
   "cell_type": "code",
   "execution_count": 37,
   "metadata": {},
   "outputs": [
    {
     "name": "stdout",
     "output_type": "stream",
     "text": [
      "The autoreload extension is already loaded. To reload it, use:\n",
      "  %reload_ext autoreload\n"
     ]
    }
   ],
   "source": [
    "import metodos_wt as mwt\n",
    "import nltk\n",
    "import pandas as pd\n",
    "from sklearn.feature_extraction.text import CountVectorizer, TfidfVectorizer\n",
    "import matplotlib.pyplot as plt\n",
    "from lmd_dicts import get_sentiment_dicts\n",
    "from ipywidgets import interact_manual, fixed\n",
    "import ipywidgets as widgets\n",
    "%load_ext autoreload\n",
    "%autoreload 2\n",
    "plt.style.use('fivethirtyeight')\n",
    "style = {'description_width': 'initial'}\n",
    "layout = widgets.Layout(width='400px')"
   ]
  },
  {
   "cell_type": "markdown",
   "metadata": {},
   "source": [
    "# Cargamos la data: Correr solo al principio"
   ]
  },
  {
   "cell_type": "code",
   "execution_count": 2,
   "metadata": {},
   "outputs": [],
   "source": [
    "db_path = 'C:\\\\Users\\\\ASUS\\\\larrainvial.com\\\\Equipo Quant - Documentos\\\\Area Estrategias Cuantitativas 2.0\\\\BDD\\\\Data Alternativa'\n",
    "o_path = db_path\n",
    "transcript_dict = mwt.load_obj(db_path + '\\\\transcript_bbd')\n",
    "count_dict = {}"
   ]
  },
  {
   "cell_type": "markdown",
   "metadata": {},
   "source": [
    "# Transformamos los transcripts en bags of words"
   ]
  },
  {
   "cell_type": "code",
   "execution_count": 10,
   "metadata": {},
   "outputs": [
    {
     "name": "stdout",
     "output_type": "stream",
     "text": [
      "NasdaqGS:MELI\n",
      "BOVESPA:VALE3\n",
      "BOVESPA:PETR4\n",
      "BMV:AMX L\n",
      "BMV:WALMEX *\n",
      "BOVESPA:ITUB4\n",
      "BOVESPA:ABEV3\n",
      "NYSE:SCCO\n",
      "BOVESPA:BBDC4\n",
      "BOVESPA:WEGE3\n",
      "BOVESPA:MGLU3\n",
      "NasdaqGS:XP\n",
      "BMV:GMEXICO B\n",
      "BOVESPA:SANB11\n",
      "BOVESPA:B3SA3\n",
      "BVC:ECOPETROL\n",
      "BMV:FEMSA UBD\n",
      "NASDAQ:STNE\n",
      "BOVESPA:BPAC11\n",
      "BOVESPA:BPAC5\n",
      "BOVESPA:BBAS3\n",
      "BOVESPA:ITSA4\n",
      "BOVESPA:VIVT4\n",
      "LSE:ANTO\n",
      "NYSE:PAGS\n",
      "BOVESPA:NTCO3\n",
      "BMV:GFNORTE O\n",
      "BOVESPA:SUZB3\n",
      "BOVESPA:JBSS3\n",
      "SNSE:COPEC\n",
      "SNSE:ENELAM\n",
      "BOVESPA:BTOW3\n",
      "NYSE:BAP\n",
      "SNSE:SQM-B\n",
      "BOVESPA:HAPV3\n",
      "BOVESPA:ELET6\n",
      "BOVESPA:BBSE3\n",
      "BMV:BIMBO A\n",
      "BOVESPA:LAME4\n",
      "NYSE:KOF\n",
      "BOVESPA:RENT3\n",
      "NYSE:GLOB\n",
      "BOVESPA:RADL3\n",
      "BMV:CUERVO *\n",
      "SNSE:CHILE\n",
      "BOVESPA:CRFB3\n",
      "BMV:AC *\n",
      "SNSE:FALABELLA\n",
      "BASE:TECO2\n",
      "SNSE:BSANTANDER\n",
      "BOVESPA:GGBR4\n",
      "BOVESPA:RAIL3\n",
      "BVC:ISA\n",
      "BVC:BCOLOMBIA\n",
      "BVC:GEB\n",
      "BOVESPA:EGIE3\n",
      "BMV:CEMEX CPO\n",
      "BVC:BOGOTA\n",
      "BOVESPA:CPFE3\n",
      "BOVESPA:SBSP3\n",
      "BOVESPA:LREN3\n",
      "BOVESPA:VVAR3\n",
      "SNSE:CMPC\n",
      "BMV:BSMX B\n",
      "BVC:GRUPOAVAL\n",
      "BMV:IENOVA *\n",
      "BMV:GCARSO A1\n",
      "BOVESPA:KLBN11\n",
      "SNSE:ENELCHILE\n",
      "BOVESPA:CCRO3\n",
      "BOVESPA:CSAN3\n",
      "BMV:GRUMA B\n",
      "SNSE:BCI\n",
      "BMV:GAP B\n",
      "BOVESPA:BRDT3\n",
      "SNSE:CENCOSUD\n",
      "BMV:LIVEPOL C-1\n",
      "BMV:TLEVISA CPO\n",
      "NYSE:TX\n",
      "BOVESPA:ALPA4\n",
      "BOVESPA:EQTL3\n",
      "BMV:ORBIA *\n",
      "BOVESPA:NEOE3\n",
      "BOVESPA:UGPA3\n",
      "BOVESPA:HYPE3\n",
      "NYSE:CZZ\n",
      "BMV:ASUR B\n",
      "BVL:INRETC1\n",
      "BMV:ALFA A\n",
      "BOVESPA:CMIG4\n",
      "BOVESPA:PCAR3\n",
      "BMV:FUNO 11\n",
      "NYSE:BVN\n",
      "BVC:GRUPOSURA\n",
      "BOVESPA:CPLE6\n",
      "BOVESPA:BRKM5\n",
      "BOVESPA:ENGI11\n",
      "BVC:PFDAVVNDA\n",
      "NYSE:YPF\n",
      "BOVESPA:TOTS3\n",
      "BOVESPA:SULA11\n",
      "BOVESPA:PSSA3\n",
      "BOVESPA:BIDI4\n",
      "BOVESPA:TRPL4\n",
      "BVL:IFS\n",
      "BOVESPA:ENEV3\n",
      "SNSE:COLBUN\n",
      "BOVESPA:BRFS3\n",
      "BVC:NUTRESA\n",
      "SNSE:ENELGXCH\n",
      "BMV:MEGA CPO\n",
      "NasdaqGS:AFYA\n",
      "BOVESPA:DTEX3\n",
      "SNSE:CCU\n",
      "BOVESPA:ELPL3\n",
      "BOVESPA:USIM5\n",
      "BVC:GRUPOARGOS\n",
      "BOVESPA:MULT3\n",
      "BOVESPA:LCAM3\n",
      "NasdaqGS:ARCE\n",
      "NYSE:CPA\n",
      "BOVESPA:MDIA3\n",
      "BVC:PROMIGAS\n",
      "NasdaqCM:GGAL\n",
      "NASDAQ:GGAL\n",
      "BVL:MINSURI1\n",
      "BOVESPA:BRML3\n",
      "SNSE:ITAUCORP\n",
      "BMV:BOLSA A\n",
      "BVC:EXITO\n",
      "BVC:CELSIA\n",
      "BOVESPA:GRND3\n",
      "BMV:SORIANA B\n",
      "BOVESPA:GUAR3\n",
      "BOVESPA:ODPV3\n",
      "BOVESPA:GOLL4\n",
      "SNSE:ECL\n",
      "BOVESPA:ALUP11\n",
      "SNSE:PARAUCO\n",
      "BOVESPA:ALSO3\n",
      "BOVESPA:ECOR3\n",
      "SNSE:CONCHATORO\n",
      "BMV:TERRA 13\n",
      "BMV:CHDRAUI B\n",
      "BOVESPA:BEEF3\n",
      "BOVESPA:LINX3\n",
      "BOVESPA:CSMG3\n",
      "BMV:AXTEL CPO\n",
      "BMV:LAB B\n",
      "BVC:BBVACOL\n",
      "BOVESPA:TIET11\n",
      "BASE:BBAR\n",
      "BMV:KUO B\n",
      "BOVESPA:IGTA3\n",
      "BMV:BBAJIO O\n",
      "BMV:FIBRAMQ 12\n",
      "BOVESPA:MOVI3\n",
      "BOVESPA:LIGT3\n",
      "BOVESPA:BRSR6\n",
      "BMV:VESTA *\n",
      "BOVESPA:CAML3\n",
      "BOVESPA:PRIO3\n",
      "SNSE:LTM\n",
      "BMV:NEMAK A\n",
      "BVL:MILPOC1\n",
      "BMV:R A\n",
      "BOVESPA:SLCE3\n",
      "BOVESPA:ARZZ3\n",
      "BMV:ALSEA *\n",
      "NYSE:ARCO\n",
      "BOVESPA:EMBR3\n",
      "BOVESPA:BSEV3\n",
      "BMV:VOLAR A\n",
      "SNSE:SMU\n",
      "BOVESPA:BRPR3\n",
      "BMV:MFRISCO A-1\n",
      "BOVESPA:RAPT4\n",
      "BMV:HERDEZ *\n",
      "BASE:CEPU\n",
      "BVL:UNACEMC1\n",
      "BVL:CPACASC1\n",
      "BOVESPA:STBP3\n",
      "SNSE:SMSAAM\n",
      "BMV:ELEMENT *\n",
      "NYSE:AGRO\n",
      "SNSE:SONDA\n",
      "BOVESPA:ANIM3\n",
      "SNSE:CUPRUM\n",
      "BOVESPA:PARD3\n",
      "BOVESPA:WSON33\n",
      "NYSE:LOMA\n",
      "BOVESPA:TEND3\n",
      "BMV:VITRO A\n",
      "NYSE:BLX\n",
      "SNSE:ILC\n",
      "BOVESPA:UNIP6\n",
      "SNSE:RIPLEY\n",
      "BOVESPA:HGTX3\n",
      "BOVESPA:ENAT3\n",
      "NYSE:GPRK\n",
      "BOVESPA:CVCB3\n",
      "BMV:GENTERA *\n",
      "NYSE:DESP\n",
      "TSX:CNE\n",
      "BOVESPA:POMO4\n",
      "BASE:IRCP\n",
      "BOVESPA:TUPY3\n",
      "BOVESPA:EVEN3\n",
      "BVL:FERREYC1\n",
      "BOVESPA:LEVE3\n",
      "BOVESPA:MYPK3\n",
      "BMV:TRAXION A\n",
      "BVC:CLH\n",
      "BOVESPA:CCPR3\n",
      "BVC:TERPEL\n",
      "BVL:GRAMONC1\n",
      "BMV:UNIFIN A\n",
      "BMV:AGUA *\n",
      "BOVESPA:DIRR3\n",
      "BASE:IRSA\n",
      "BOVESPA:SMLS3\n",
      "BOVESPA:SEER3\n",
      "BOVESPA:AMAR3\n",
      "NYSE:CAAP\n",
      "BASE:CRES\n",
      "NYSE:SUPV\n",
      "BOVESPA:SQIA3\n",
      "BOVESPA:WIZS3\n",
      "NasdaqCM:TGLS\n",
      "BOVESPA:MILS3\n",
      "BOVESPA:OFSA3\n",
      "BOVESPA:TGMA3\n",
      "BMV:GISSA A\n",
      "BOVESPA:HBOR3\n",
      "BASE:EDN\n",
      "NYSE:EDN\n",
      "BMV:FHIPO 14\n",
      "BOVESPA:AGRO3\n",
      "BOVESPA:AALR3\n",
      "BMV:JAVER *\n",
      "BOVESPA:FRAS3\n",
      "BOVESPA:GFSA3\n",
      "BMV:GICSA B\n",
      "BMV:CREAL *\n",
      "BOVESPA:KEPL3\n",
      "BASE:BHIP\n",
      "BMV:FIHO 12\n",
      "BVC:ELCONDOR\n",
      "BOVESPA:LPSB3\n",
      "BMV:AEROMEX *\n",
      "BOVESPA:TCSA3\n",
      "BOVESPA:PFRM3\n",
      "BMV:FINN 13\n",
      "BOVESPA:VLID3\n",
      "BMV:FINDEP *\n",
      "BMV:KIMBER A\n",
      "BOVESPA:CSNA3\n",
      "BOVESPA:ENBR3\n",
      "NYSE:IBA\n",
      "BOVESPA:MRFG3\n",
      "BMV:OMA B\n",
      "BOVESPA:BPAN4\n",
      "BOVESPA:GOAU4\n",
      "BVL:ALICORC1\n",
      "BOVESPA:CYRE3\n",
      "BOVESPA:OIBR3\n",
      "NYSE:BMA\n",
      "BOVESPA:CIEL3\n",
      "BMV:FIBRAPL 14\n",
      "BOVESPA:COGN3\n",
      "BOVESPA:TAEE11\n",
      "BOVESPA:CESP6\n",
      "BOVESPA:QUAL3\n",
      "BMV:GCC *\n",
      "BMV:Q *\n",
      "BOVESPA:FLRY3\n",
      "BOVESPA:IRBR3\n",
      "BVC:CEMARGOS\n",
      "BOVESPA:AZUL4\n",
      "BMV:ALPEK A\n",
      "BOVESPA:MRVE3\n",
      "BOVESPA:EZTC3\n",
      "SNSE:VAPORES\n",
      "NYSE:PAM\n",
      "BMV:LALA B\n",
      "BMV:DANHOS 13\n",
      "BOVESPA:RLOG3\n",
      "BOVESPA:YDUQ3\n",
      "BOVESPA:SMTO3\n",
      "NYSE:TGS\n",
      "BOVESPA:MEAL3\n",
      "BVC:BVC\n"
     ]
    },
    {
     "ename": "IndexError",
     "evalue": "single positional indexer is out-of-bounds",
     "output_type": "error",
     "traceback": [
      "\u001b[1;31m---------------------------------------------------------------------------\u001b[0m",
      "\u001b[1;31mIndexError\u001b[0m                                Traceback (most recent call last)",
      "\u001b[1;32m<ipython-input-10-37256be85381>\u001b[0m in \u001b[0;36m<module>\u001b[1;34m\u001b[0m\n\u001b[0;32m     40\u001b[0m \u001b[1;33m\u001b[0m\u001b[0m\n\u001b[0;32m     41\u001b[0m \u001b[1;31m# Creamos un df con la última data disponible que será útil para el análisis general\u001b[0m\u001b[1;33m\u001b[0m\u001b[1;33m\u001b[0m\u001b[1;33m\u001b[0m\u001b[0m\n\u001b[1;32m---> 42\u001b[1;33m \u001b[0mlast_dict\u001b[0m \u001b[1;33m=\u001b[0m \u001b[1;33m{\u001b[0m\u001b[0mc\u001b[0m\u001b[1;33m:\u001b[0m \u001b[0mdf\u001b[0m\u001b[1;33m.\u001b[0m\u001b[0miloc\u001b[0m\u001b[1;33m[\u001b[0m\u001b[1;33m:\u001b[0m\u001b[1;33m,\u001b[0m \u001b[1;33m-\u001b[0m\u001b[1;36m1\u001b[0m\u001b[1;33m]\u001b[0m \u001b[1;32mfor\u001b[0m \u001b[0mc\u001b[0m\u001b[1;33m,\u001b[0m \u001b[0mdf\u001b[0m \u001b[1;32min\u001b[0m \u001b[0mcount_dict\u001b[0m\u001b[1;33m.\u001b[0m\u001b[0mitems\u001b[0m\u001b[1;33m(\u001b[0m\u001b[1;33m)\u001b[0m \u001b[1;32mif\u001b[0m \u001b[0misinstance\u001b[0m\u001b[1;33m(\u001b[0m\u001b[0mdf\u001b[0m\u001b[1;33m,\u001b[0m \u001b[0mpd\u001b[0m\u001b[1;33m.\u001b[0m\u001b[0mDataFrame\u001b[0m\u001b[1;33m)\u001b[0m\u001b[1;33m}\u001b[0m\u001b[1;33m\u001b[0m\u001b[1;33m\u001b[0m\u001b[0m\n\u001b[0m\u001b[0;32m     43\u001b[0m \u001b[0mlast_df\u001b[0m \u001b[1;33m=\u001b[0m \u001b[0mpd\u001b[0m\u001b[1;33m.\u001b[0m\u001b[0mDataFrame\u001b[0m\u001b[1;33m(\u001b[0m\u001b[0mlast_dict\u001b[0m\u001b[1;33m)\u001b[0m\u001b[1;33m\u001b[0m\u001b[1;33m\u001b[0m\u001b[0m\n",
      "\u001b[1;32m<ipython-input-10-37256be85381>\u001b[0m in \u001b[0;36m<dictcomp>\u001b[1;34m(.0)\u001b[0m\n\u001b[0;32m     40\u001b[0m \u001b[1;33m\u001b[0m\u001b[0m\n\u001b[0;32m     41\u001b[0m \u001b[1;31m# Creamos un df con la última data disponible que será útil para el análisis general\u001b[0m\u001b[1;33m\u001b[0m\u001b[1;33m\u001b[0m\u001b[1;33m\u001b[0m\u001b[0m\n\u001b[1;32m---> 42\u001b[1;33m \u001b[0mlast_dict\u001b[0m \u001b[1;33m=\u001b[0m \u001b[1;33m{\u001b[0m\u001b[0mc\u001b[0m\u001b[1;33m:\u001b[0m \u001b[0mdf\u001b[0m\u001b[1;33m.\u001b[0m\u001b[0miloc\u001b[0m\u001b[1;33m[\u001b[0m\u001b[1;33m:\u001b[0m\u001b[1;33m,\u001b[0m \u001b[1;33m-\u001b[0m\u001b[1;36m1\u001b[0m\u001b[1;33m]\u001b[0m \u001b[1;32mfor\u001b[0m \u001b[0mc\u001b[0m\u001b[1;33m,\u001b[0m \u001b[0mdf\u001b[0m \u001b[1;32min\u001b[0m \u001b[0mcount_dict\u001b[0m\u001b[1;33m.\u001b[0m\u001b[0mitems\u001b[0m\u001b[1;33m(\u001b[0m\u001b[1;33m)\u001b[0m \u001b[1;32mif\u001b[0m \u001b[0misinstance\u001b[0m\u001b[1;33m(\u001b[0m\u001b[0mdf\u001b[0m\u001b[1;33m,\u001b[0m \u001b[0mpd\u001b[0m\u001b[1;33m.\u001b[0m\u001b[0mDataFrame\u001b[0m\u001b[1;33m)\u001b[0m\u001b[1;33m}\u001b[0m\u001b[1;33m\u001b[0m\u001b[1;33m\u001b[0m\u001b[0m\n\u001b[0m\u001b[0;32m     43\u001b[0m \u001b[0mlast_df\u001b[0m \u001b[1;33m=\u001b[0m \u001b[0mpd\u001b[0m\u001b[1;33m.\u001b[0m\u001b[0mDataFrame\u001b[0m\u001b[1;33m(\u001b[0m\u001b[0mlast_dict\u001b[0m\u001b[1;33m)\u001b[0m\u001b[1;33m\u001b[0m\u001b[1;33m\u001b[0m\u001b[0m\n",
      "\u001b[1;32m~\\anaconda\\lib\\site-packages\\pandas\\core\\indexing.py\u001b[0m in \u001b[0;36m__getitem__\u001b[1;34m(self, key)\u001b[0m\n\u001b[0;32m    871\u001b[0m                     \u001b[1;31m# AttributeError for IntervalTree get_value\u001b[0m\u001b[1;33m\u001b[0m\u001b[1;33m\u001b[0m\u001b[1;33m\u001b[0m\u001b[0m\n\u001b[0;32m    872\u001b[0m                     \u001b[1;32mpass\u001b[0m\u001b[1;33m\u001b[0m\u001b[1;33m\u001b[0m\u001b[0m\n\u001b[1;32m--> 873\u001b[1;33m             \u001b[1;32mreturn\u001b[0m \u001b[0mself\u001b[0m\u001b[1;33m.\u001b[0m\u001b[0m_getitem_tuple\u001b[0m\u001b[1;33m(\u001b[0m\u001b[0mkey\u001b[0m\u001b[1;33m)\u001b[0m\u001b[1;33m\u001b[0m\u001b[1;33m\u001b[0m\u001b[0m\n\u001b[0m\u001b[0;32m    874\u001b[0m         \u001b[1;32melse\u001b[0m\u001b[1;33m:\u001b[0m\u001b[1;33m\u001b[0m\u001b[1;33m\u001b[0m\u001b[0m\n\u001b[0;32m    875\u001b[0m             \u001b[1;31m# we by definition only have the 0th axis\u001b[0m\u001b[1;33m\u001b[0m\u001b[1;33m\u001b[0m\u001b[1;33m\u001b[0m\u001b[0m\n",
      "\u001b[1;32m~\\anaconda\\lib\\site-packages\\pandas\\core\\indexing.py\u001b[0m in \u001b[0;36m_getitem_tuple\u001b[1;34m(self, tup)\u001b[0m\n\u001b[0;32m   1441\u001b[0m     \u001b[1;32mdef\u001b[0m \u001b[0m_getitem_tuple\u001b[0m\u001b[1;33m(\u001b[0m\u001b[0mself\u001b[0m\u001b[1;33m,\u001b[0m \u001b[0mtup\u001b[0m\u001b[1;33m:\u001b[0m \u001b[0mTuple\u001b[0m\u001b[1;33m)\u001b[0m\u001b[1;33m:\u001b[0m\u001b[1;33m\u001b[0m\u001b[1;33m\u001b[0m\u001b[0m\n\u001b[0;32m   1442\u001b[0m \u001b[1;33m\u001b[0m\u001b[0m\n\u001b[1;32m-> 1443\u001b[1;33m         \u001b[0mself\u001b[0m\u001b[1;33m.\u001b[0m\u001b[0m_has_valid_tuple\u001b[0m\u001b[1;33m(\u001b[0m\u001b[0mtup\u001b[0m\u001b[1;33m)\u001b[0m\u001b[1;33m\u001b[0m\u001b[1;33m\u001b[0m\u001b[0m\n\u001b[0m\u001b[0;32m   1444\u001b[0m         \u001b[1;32mtry\u001b[0m\u001b[1;33m:\u001b[0m\u001b[1;33m\u001b[0m\u001b[1;33m\u001b[0m\u001b[0m\n\u001b[0;32m   1445\u001b[0m             \u001b[1;32mreturn\u001b[0m \u001b[0mself\u001b[0m\u001b[1;33m.\u001b[0m\u001b[0m_getitem_lowerdim\u001b[0m\u001b[1;33m(\u001b[0m\u001b[0mtup\u001b[0m\u001b[1;33m)\u001b[0m\u001b[1;33m\u001b[0m\u001b[1;33m\u001b[0m\u001b[0m\n",
      "\u001b[1;32m~\\anaconda\\lib\\site-packages\\pandas\\core\\indexing.py\u001b[0m in \u001b[0;36m_has_valid_tuple\u001b[1;34m(self, key)\u001b[0m\n\u001b[0;32m    700\u001b[0m                 \u001b[1;32mraise\u001b[0m \u001b[0mIndexingError\u001b[0m\u001b[1;33m(\u001b[0m\u001b[1;34m\"Too many indexers\"\u001b[0m\u001b[1;33m)\u001b[0m\u001b[1;33m\u001b[0m\u001b[1;33m\u001b[0m\u001b[0m\n\u001b[0;32m    701\u001b[0m             \u001b[1;32mtry\u001b[0m\u001b[1;33m:\u001b[0m\u001b[1;33m\u001b[0m\u001b[1;33m\u001b[0m\u001b[0m\n\u001b[1;32m--> 702\u001b[1;33m                 \u001b[0mself\u001b[0m\u001b[1;33m.\u001b[0m\u001b[0m_validate_key\u001b[0m\u001b[1;33m(\u001b[0m\u001b[0mk\u001b[0m\u001b[1;33m,\u001b[0m \u001b[0mi\u001b[0m\u001b[1;33m)\u001b[0m\u001b[1;33m\u001b[0m\u001b[1;33m\u001b[0m\u001b[0m\n\u001b[0m\u001b[0;32m    703\u001b[0m             \u001b[1;32mexcept\u001b[0m \u001b[0mValueError\u001b[0m \u001b[1;32mas\u001b[0m \u001b[0merr\u001b[0m\u001b[1;33m:\u001b[0m\u001b[1;33m\u001b[0m\u001b[1;33m\u001b[0m\u001b[0m\n\u001b[0;32m    704\u001b[0m                 raise ValueError(\n",
      "\u001b[1;32m~\\anaconda\\lib\\site-packages\\pandas\\core\\indexing.py\u001b[0m in \u001b[0;36m_validate_key\u001b[1;34m(self, key, axis)\u001b[0m\n\u001b[0;32m   1350\u001b[0m             \u001b[1;32mreturn\u001b[0m\u001b[1;33m\u001b[0m\u001b[1;33m\u001b[0m\u001b[0m\n\u001b[0;32m   1351\u001b[0m         \u001b[1;32melif\u001b[0m \u001b[0mis_integer\u001b[0m\u001b[1;33m(\u001b[0m\u001b[0mkey\u001b[0m\u001b[1;33m)\u001b[0m\u001b[1;33m:\u001b[0m\u001b[1;33m\u001b[0m\u001b[1;33m\u001b[0m\u001b[0m\n\u001b[1;32m-> 1352\u001b[1;33m             \u001b[0mself\u001b[0m\u001b[1;33m.\u001b[0m\u001b[0m_validate_integer\u001b[0m\u001b[1;33m(\u001b[0m\u001b[0mkey\u001b[0m\u001b[1;33m,\u001b[0m \u001b[0maxis\u001b[0m\u001b[1;33m)\u001b[0m\u001b[1;33m\u001b[0m\u001b[1;33m\u001b[0m\u001b[0m\n\u001b[0m\u001b[0;32m   1353\u001b[0m         \u001b[1;32melif\u001b[0m \u001b[0misinstance\u001b[0m\u001b[1;33m(\u001b[0m\u001b[0mkey\u001b[0m\u001b[1;33m,\u001b[0m \u001b[0mtuple\u001b[0m\u001b[1;33m)\u001b[0m\u001b[1;33m:\u001b[0m\u001b[1;33m\u001b[0m\u001b[1;33m\u001b[0m\u001b[0m\n\u001b[0;32m   1354\u001b[0m             \u001b[1;31m# a tuple should already have been caught by this point\u001b[0m\u001b[1;33m\u001b[0m\u001b[1;33m\u001b[0m\u001b[1;33m\u001b[0m\u001b[0m\n",
      "\u001b[1;32m~\\anaconda\\lib\\site-packages\\pandas\\core\\indexing.py\u001b[0m in \u001b[0;36m_validate_integer\u001b[1;34m(self, key, axis)\u001b[0m\n\u001b[0;32m   1435\u001b[0m         \u001b[0mlen_axis\u001b[0m \u001b[1;33m=\u001b[0m \u001b[0mlen\u001b[0m\u001b[1;33m(\u001b[0m\u001b[0mself\u001b[0m\u001b[1;33m.\u001b[0m\u001b[0mobj\u001b[0m\u001b[1;33m.\u001b[0m\u001b[0m_get_axis\u001b[0m\u001b[1;33m(\u001b[0m\u001b[0maxis\u001b[0m\u001b[1;33m)\u001b[0m\u001b[1;33m)\u001b[0m\u001b[1;33m\u001b[0m\u001b[1;33m\u001b[0m\u001b[0m\n\u001b[0;32m   1436\u001b[0m         \u001b[1;32mif\u001b[0m \u001b[0mkey\u001b[0m \u001b[1;33m>=\u001b[0m \u001b[0mlen_axis\u001b[0m \u001b[1;32mor\u001b[0m \u001b[0mkey\u001b[0m \u001b[1;33m<\u001b[0m \u001b[1;33m-\u001b[0m\u001b[0mlen_axis\u001b[0m\u001b[1;33m:\u001b[0m\u001b[1;33m\u001b[0m\u001b[1;33m\u001b[0m\u001b[0m\n\u001b[1;32m-> 1437\u001b[1;33m             \u001b[1;32mraise\u001b[0m \u001b[0mIndexError\u001b[0m\u001b[1;33m(\u001b[0m\u001b[1;34m\"single positional indexer is out-of-bounds\"\u001b[0m\u001b[1;33m)\u001b[0m\u001b[1;33m\u001b[0m\u001b[1;33m\u001b[0m\u001b[0m\n\u001b[0m\u001b[0;32m   1438\u001b[0m \u001b[1;33m\u001b[0m\u001b[0m\n\u001b[0;32m   1439\u001b[0m     \u001b[1;31m# -------------------------------------------------------------------\u001b[0m\u001b[1;33m\u001b[0m\u001b[1;33m\u001b[0m\u001b[1;33m\u001b[0m\u001b[0m\n",
      "\u001b[1;31mIndexError\u001b[0m: single positional indexer is out-of-bounds"
     ]
    }
   ],
   "source": [
    "# Cargamos acá las palabras de los clusters ya que nos sirve para no eliminar estos términos\n",
    "cluster_words = pd.read_excel(db_path + '\\\\transcript_clusters.xlsx')\n",
    "keep_w = list(cluster_words.stack().values)\n",
    "\n",
    "# Cargamos las herramientas necesarias. Si quisiéramos tener más SW las agregamos acá\n",
    "stemmer = nltk.stem.SnowballStemmer('english')\n",
    "sw = nltk.corpus.stopwords.words('english')\n",
    "sw_extra = ['&', 'call', 'also', 'year', 'and', 'we', 'so', 'this']\n",
    "sw += sw_extra\n",
    "vectorizer = CountVectorizer(stop_words='english', ngram_range=(1, 2))\n",
    "\n",
    "for key, data in transcript_dict.items():\n",
    "    # Chequeamos que no esté vacío\n",
    "    if data.shape[0] == 0:\n",
    "        continue\n",
    "    # Feedback de cómo va el proceso\n",
    "    print(key)\n",
    "    \n",
    "    # Algunos ajustes\n",
    "    data['date'] = pd.to_datetime(data['date'])\n",
    "    data = data.loc[data['type'] == 'Earnings Call']\n",
    "    data = data[['date', 'text']].set_index('date').squeeze()\n",
    "\n",
    "    # Si hay un solo transcript, pasamos\n",
    "    if not isinstance(data, pd.Series):\n",
    "        continue\n",
    "\n",
    "    cv_dict = {}\n",
    "    for date, text in data.iteritems():\n",
    "        if not isinstance(text, str):\n",
    "            continue\n",
    "        text = mwt.process_raw_text(text, sw, stemmer)\n",
    "        cv_dict[date] = mwt.count_vect(text, vectorizer, keep_w=keep_w)\n",
    "\n",
    "    df = pd.DataFrame(cv_dict).fillna(0)\n",
    "    cols_orden = df.columns.sort_values()\n",
    "    df = df[cols_orden]\n",
    "    if df.shape[0] > 0:\n",
    "        count_dict[key.split(':')[-1]] = df\n",
    "\n",
    "# Creamos un df con la última data disponible que será útil para el análisis general\n",
    "last_dict =  pd.DataFrame({c: df.iloc[:, -1] for c, df in count_dict.items() if not df.empty})\n",
    "last_delta = pd.DataFrame({c: df.diff().iloc[:, -1] for c, df in count_dict.items() if not df.empty})"
   ]
  },
  {
   "cell_type": "markdown",
   "metadata": {},
   "source": [
    "# Hacemos el conteo de palabras por tópico y además el sentiment\n",
    "Podría hacerse en el for anterior, pero es probable que necesitemos normalizar por la suma asi que si usamos ese dato tiene que hacerse después."
   ]
  },
  {
   "cell_type": "code",
   "execution_count": 16,
   "metadata": {},
   "outputs": [],
   "source": [
    "# Primero separamos topics(clusters) y sentiment, ya que en sentiment crearemos la variable \"delta\".\n",
    "# Además, funciona un poco distinto el método por eficiencia computacional (son muchas palabras)\n",
    "\n",
    "clusters_dict = {}\n",
    "sent_dict, negation_list = get_sentiment_dicts()\n",
    "sentiment_dict = {}\n",
    "\n",
    "for c in cluster_words.columns:\n",
    "    words = cluster_words[c].values[cluster_words[c].notna()]\n",
    "    cluster_dict = {}\n",
    "    for k, df in count_dict.items():\n",
    "        words_t = list(set(words) & set(df.index))\n",
    "        subset = df.loc[words_t].sum()\n",
    "        subset.index = [mwt.date_to_q(d) for d in subset.index]\n",
    "        cluster_dict[k] = subset[~subset.index.duplicated(keep='first')]\n",
    "        # Análisis de tono\n",
    "        if c == cluster_words.columns[0]:\n",
    "            sentiment_dict[k] = mwt.get_sentiment(df, sent_dict,\n",
    "                                                  negation_list)\n",
    "    clusters_dict[c] = pd.DataFrame(cluster_dict)\n",
    "\n",
    "# Cambiamos el formato de la evolución de sentiment al de los tópicos y juntamos ambos diccionarios\n",
    "sentiments = list(next(iter(sentiment_dict.values())).columns)\n",
    "sentiment_dict = {s: pd.DataFrame({k: df[s] for k, df in sentiment_dict.items()})\n",
    "                  for s in sentiments}\n",
    "clusters_dict = {**sentiment_dict, **clusters_dict}"
   ]
  },
  {
   "cell_type": "markdown",
   "metadata": {},
   "source": [
    "# Análisis del universo"
   ]
  },
  {
   "cell_type": "markdown",
   "metadata": {},
   "source": [
    "### Análisis de las top y bottom empresas por cluster"
   ]
  },
  {
   "cell_type": "code",
   "execution_count": 27,
   "metadata": {},
   "outputs": [
    {
     "data": {
      "application/vnd.jupyter.widget-view+json": {
       "model_id": "9742e447bd3048e684a40e0ec34a002c",
       "version_major": 2,
       "version_minor": 0
      },
      "text/plain": [
       "interactive(children=(Dropdown(description='Cluster:', index=7, options=('Negative', 'Positive', 'Delta', 'Deb…"
      ]
     },
     "metadata": {},
     "output_type": "display_data"
    }
   ],
   "source": [
    "w = interact_manual(mwt.get_top_clusters,\n",
    "                    clusters_dict=fixed(clusters_dict),\n",
    "                    cluster=widgets.Dropdown(options=clusters_dict.keys(), value='Risk', description='Cluster:'),\n",
    "                    N=widgets.IntSlider(value=10, description='N: ', max=30, min=5),\n",
    "                    cambio=widgets.Checkbox(True, description='Medir cambio:'))"
   ]
  },
  {
   "cell_type": "markdown",
   "metadata": {},
   "source": [
    "### Resumen por industria"
   ]
  },
  {
   "cell_type": "code",
   "execution_count": null,
   "metadata": {},
   "outputs": [],
   "source": []
  },
  {
   "cell_type": "markdown",
   "metadata": {},
   "source": [
    "### Empresas con más cambios c/r al transcipt pasado"
   ]
  },
  {
   "cell_type": "code",
   "execution_count": 30,
   "metadata": {},
   "outputs": [
    {
     "data": {
      "application/vnd.jupyter.widget-view+json": {
       "model_id": "85b93894138e41a0b524818a47569f3d",
       "version_major": 2,
       "version_minor": 0
      },
      "text/plain": [
       "interactive(children=(IntSlider(value=10, description='N: ', max=30, min=5), Button(description='Run Interact'…"
      ]
     },
     "metadata": {},
     "output_type": "display_data"
    }
   ],
   "source": [
    "w = interact_manual(mwt.top_changes,\n",
    "                    delta_df=fixed(last_delta),\n",
    "                    N=widgets.IntSlider(value=10, description='N: ', max=30, min=5))"
   ]
  },
  {
   "cell_type": "markdown",
   "metadata": {},
   "source": [
    "# Análisis de industria"
   ]
  },
  {
   "cell_type": "markdown",
   "metadata": {},
   "source": [
    "### Scatter cluster A vs cluster B"
   ]
  },
  {
   "cell_type": "code",
   "execution_count": null,
   "metadata": {},
   "outputs": [],
   "source": []
  },
  {
   "cell_type": "markdown",
   "metadata": {},
   "source": [
    "### Evolución clusters"
   ]
  },
  {
   "cell_type": "code",
   "execution_count": null,
   "metadata": {},
   "outputs": [],
   "source": []
  },
  {
   "cell_type": "markdown",
   "metadata": {},
   "source": [
    "### Contribución por palabras"
   ]
  },
  {
   "cell_type": "code",
   "execution_count": null,
   "metadata": {},
   "outputs": [],
   "source": []
  },
  {
   "cell_type": "markdown",
   "metadata": {},
   "source": [
    "# Análisis de empresa específica"
   ]
  },
  {
   "cell_type": "markdown",
   "metadata": {},
   "source": [
    "### Gráfico Winning Eleven vs universo e industria"
   ]
  },
  {
   "cell_type": "code",
   "execution_count": null,
   "metadata": {},
   "outputs": [],
   "source": []
  },
  {
   "cell_type": "markdown",
   "metadata": {},
   "source": [
    "### Contribución por palabras a clusters"
   ]
  },
  {
   "cell_type": "code",
   "execution_count": 46,
   "metadata": {},
   "outputs": [
    {
     "data": {
      "application/vnd.jupyter.widget-view+json": {
       "model_id": "beb4fba271c44bf3826f580368aad13c",
       "version_major": 2,
       "version_minor": 0
      },
      "text/plain": [
       "interactive(children=(Text(value='', description='Company'), IntSlider(value=10, description='# de palabras: '…"
      ]
     },
     "metadata": {},
     "output_type": "display_data"
    }
   ],
   "source": [
    "w = interact_manual(mwt.cluster_contribution,\n",
    "                    last_df=fixed(last_df),\n",
    "                    company=widgets.Text(value='', description='Company'),\n",
    "                    cluster_words=fixed(cluster_words),\n",
    "                    N=widgets.IntSlider(value=10, description='# de palabras: ', max=30, min=5, style=style))"
   ]
  },
  {
   "cell_type": "markdown",
   "metadata": {},
   "source": [
    "### Evolución Sentiment"
   ]
  },
  {
   "cell_type": "code",
   "execution_count": null,
   "metadata": {},
   "outputs": [],
   "source": []
  },
  {
   "cell_type": "markdown",
   "metadata": {},
   "source": [
    "### Mayores cambios por palabra"
   ]
  },
  {
   "cell_type": "code",
   "execution_count": 38,
   "metadata": {},
   "outputs": [
    {
     "data": {
      "application/vnd.jupyter.widget-view+json": {
       "model_id": "768ae022826b4f48a855a153fc6aaa22",
       "version_major": 2,
       "version_minor": 0
      },
      "text/plain": [
       "interactive(children=(Text(value='', description='Company'), IntSlider(value=4, description='# de quarters: ',…"
      ]
     },
     "metadata": {},
     "output_type": "display_data"
    }
   ],
   "source": [
    "w = interact_manual(mwt.main_changes,\n",
    "                    count_dict=fixed(count_dict),\n",
    "                    company=widgets.Text(value='', description='Company'),\n",
    "                    MM_per=widgets.IntSlider(value=4, description='# de quarters: ', max=10, min=1, style=style),\n",
    "                    N=widgets.IntSlider(value=10, description='# de palabras: ', max=30, min=5, style=style))"
   ]
  },
  {
   "cell_type": "markdown",
   "metadata": {},
   "source": [
    "# Cell de prueba"
   ]
  },
  {
   "cell_type": "code",
   "execution_count": 40,
   "metadata": {},
   "outputs": [
    {
     "name": "stdout",
     "output_type": "stream",
     "text": [
      "0 0\n",
      "1 0\n",
      "0 2\n",
      "1 2\n",
      "0 4\n",
      "1 4\n",
      "0 6\n"
     ]
    }
   ],
   "source": [
    "for i in range(7):\n",
    "    print(i%2, int(i/2)*2)"
   ]
  },
  {
   "cell_type": "code",
   "execution_count": 28,
   "metadata": {},
   "outputs": [],
   "source": [
    "last_delta = pd.DataFrame({c: df.diff().iloc[:, -1] for c, df in count_dict.items() if not df.empty})"
   ]
  },
  {
   "cell_type": "code",
   "execution_count": null,
   "metadata": {},
   "outputs": [],
   "source": []
  }
 ],
 "metadata": {
  "kernelspec": {
   "display_name": "Python 3",
   "language": "python",
   "name": "python3"
  },
  "language_info": {
   "codemirror_mode": {
    "name": "ipython",
    "version": 3
   },
   "file_extension": ".py",
   "mimetype": "text/x-python",
   "name": "python",
   "nbconvert_exporter": "python",
   "pygments_lexer": "ipython3",
   "version": "3.8.5"
  }
 },
 "nbformat": 4,
 "nbformat_minor": 4
}
