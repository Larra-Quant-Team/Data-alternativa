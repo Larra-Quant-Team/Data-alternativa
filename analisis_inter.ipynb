{
 "cells": [
  {
   "cell_type": "code",
   "execution_count": 1,
   "metadata": {},
   "outputs": [],
   "source": [
    "import metodos_wt as mwt\n",
    "import nltk\n",
    "import pandas as pd\n",
    "from sklearn.feature_extraction.text import CountVectorizer\n",
    "import numpy as np\n",
    "from scipy.cluster.hierarchy import linkage, dendrogram\n",
    "import matplotlib.pyplot as plt\n"
   ]
  },
  {
   "cell_type": "code",
   "execution_count": null,
   "metadata": {},
   "outputs": [],
   "source": [
    "transcript_dict = mwt.load_obj('transcript_bbd')\n",
    "count_dict = {}"
   ]
  },
  {
   "cell_type": "code",
   "execution_count": null,
   "metadata": {},
   "outputs": [],
   "source": [
    "stemmer = nltk.stem.SnowballStemmer('english')\n",
    "sw = nltk.corpus.stopwords.words('english')\n",
    "sw_extra = ['&', 'call', 'also', 'year', 'and', 'we', 'so', 'this']\n",
    "sw += sw_extra\n",
    "vectorizer = CountVectorizer(stop_words='english')\n",
    "\n",
    "for key, data in transcript_dict.items():\n",
    "    if data.shape[0] == 0:\n",
    "        continue\n",
    "    print(key)\n",
    "    data['date'] = pd.to_datetime(data['date'])\n",
    "    data = data[['date', 'text']].set_index('date').squeeze()\n",
    "\n",
    "    # Si hay un solo transcript, pasamos\n",
    "    if not isinstance(data, pd.Series):\n",
    "        continue\n",
    "\n",
    "    cv_dict = {}\n",
    "    for date, text in data.iteritems():\n",
    "        if not isinstance(text, str):\n",
    "            continue\n",
    "        text = mwt.process_raw_text(text, sw, stemmer)\n",
    "        cv_dict[date] = mwt.count_vect(text, vectorizer)\n",
    "\n",
    "    count_dict[key] = pd.DataFrame(cv_dict).fillna(0)"
   ]
  }
 ],
 "metadata": {
  "kernelspec": {
   "display_name": "Python 3",
   "language": "python",
   "name": "python3"
  },
  "language_info": {
   "codemirror_mode": {
    "name": "ipython",
    "version": 3
   },
   "file_extension": ".py",
   "mimetype": "text/x-python",
   "name": "python",
   "nbconvert_exporter": "python",
   "pygments_lexer": "ipython3",
   "version": "3.8.5"
  }
 },
 "nbformat": 4,
 "nbformat_minor": 4
}
